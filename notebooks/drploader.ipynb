{
 "cells": [
  {
   "cell_type": "code",
   "execution_count": 2,
   "metadata": {},
   "outputs": [],
   "source": [
    "from drptools.data import DRPLoader"
   ]
  },
  {
   "cell_type": "code",
   "execution_count": 3,
   "metadata": {},
   "outputs": [],
   "source": [
    "path = \"/sps/lsst/dataproducts/desc/DC2/Run1.1-test2/w_2018_14/work/0/output/\""
   ]
  },
  {
   "cell_type": "code",
   "execution_count": 4,
   "metadata": {},
   "outputs": [],
   "source": [
    "drp = DRPLoader(path)"
   ]
  },
  {
   "cell_type": "code",
   "execution_count": 5,
   "metadata": {},
   "outputs": [
    {
     "data": {
      "text/html": [
       "<h2>General info on the current DRP</h2><h3>Paths to the repositories</h3><ul style=\"list-style-type:square\"><li><b>Input</b>: /sps/lsst/dataproducts/desc/DC2/Run1.1-test2/w_2018_14/work/0/input</li></li><li><b>Output</b>: /sps/lsst/dataproducts/desc/DC2/Run1.1-test2/w_2018_14/work/0/output</li></li></ul><h3>Mapper info</h3><ul style=\"list-style-type:square\"><li><b>Package</b>: obs_lsstSim</li><li><b>Camera</b>: lsstSim</li><li><b>Name</b>: LsstSimMapper</li></ul><h3>Filters and visits</h3><table><tr><th>Name</th><td>u</td><td>z</td><td>g</td><td>i</td><td>y</td><td>r</td></tr><tr><th>#Visits</th><td>11</td><td>11</td><td>11</td><td>11</td><td>11</td><td>11</td></tr></table><h3>Other info</h3><ul style=\"list-style-type:square\"><li><b>Sky map</b>: RingsSkyMap</li></ul>"
      ],
      "text/plain": [
       "<IPython.core.display.HTML object>"
      ]
     },
     "execution_count": 5,
     "metadata": {},
     "output_type": "execute_result"
    }
   ],
   "source": [
    "drp.overview()"
   ]
  },
  {
   "cell_type": "code",
   "execution_count": 6,
   "metadata": {},
   "outputs": [
    {
     "data": {
      "text/plain": [
       "('/sps/lsst/dataproducts/desc/DC2/Run1.1-test2/w_2018_14/work/0/input',\n",
       " '/sps/lsst/dataproducts/desc/DC2/Run1.1-test2/w_2018_14/work/0/output')"
      ]
     },
     "execution_count": 6,
     "metadata": {},
     "output_type": "execute_result"
    }
   ],
   "source": [
    "drp.repo_input, drp.repo_output"
   ]
  },
  {
   "cell_type": "code",
   "execution_count": 7,
   "metadata": {},
   "outputs": [
    {
     "data": {
      "text/plain": [
       "dict_keys(['raw', 'forced_src', 'deepCoadd_meas', 'deepCoadd_forced_src'])"
      ]
     },
     "execution_count": 7,
     "metadata": {},
     "output_type": "execute_result"
    }
   ],
   "source": [
    "drp.dataIds.keys()"
   ]
  },
  {
   "cell_type": "code",
   "execution_count": 8,
   "metadata": {},
   "outputs": [
    {
     "data": {
      "text/plain": [
       "[{'filter': 'r', 'tract': 5064, 'patch': '3,0'},\n",
       " {'filter': 'r', 'tract': 5064, 'patch': '0,4'},\n",
       " {'filter': 'r', 'tract': 5064, 'patch': '0,0'},\n",
       " {'filter': 'r', 'tract': 5064, 'patch': '4,1'},\n",
       " {'filter': 'r', 'tract': 5064, 'patch': '1,5'}]"
      ]
     },
     "execution_count": 8,
     "metadata": {},
     "output_type": "execute_result"
    }
   ],
   "source": [
    "drp.dataIds['deepCoadd_meas'][:5]"
   ]
  },
  {
   "cell_type": "code",
   "execution_count": 9,
   "metadata": {},
   "outputs": [
    {
     "data": {
      "text/plain": [
       "{'g', 'i', 'r', 'u', 'y', 'z'}"
      ]
     },
     "execution_count": 9,
     "metadata": {},
     "output_type": "execute_result"
    }
   ],
   "source": [
    "drp.filters"
   ]
  },
  {
   "cell_type": "code",
   "execution_count": 10,
   "metadata": {},
   "outputs": [
    {
     "data": {
      "text/plain": [
       "('RingsSkyMap',\n",
       " {'patchInnerDimensions': [4000, 4000],\n",
       "  'patchBorder': 100,\n",
       "  'tractOverlap': 0.016666666666666666,\n",
       "  'pixelScale': 0.185,\n",
       "  'projection': 'TAN',\n",
       "  'rotation': 0.0,\n",
       "  'numRings': 120,\n",
       "  'raStart': 0.0})"
      ]
     },
     "execution_count": 10,
     "metadata": {},
     "output_type": "execute_result"
    }
   ],
   "source": [
    "drp.skymap_name, drp.skymap_config"
   ]
  },
  {
   "cell_type": "code",
   "execution_count": 11,
   "metadata": {},
   "outputs": [
    {
     "data": {
      "text/plain": [
       "[200739, 2249, 217577, 200747, 235051]"
      ]
     },
     "execution_count": 11,
     "metadata": {},
     "output_type": "execute_result"
    }
   ],
   "source": [
    "drp.visits['u'][:5]"
   ]
  },
  {
   "cell_type": "code",
   "execution_count": 12,
   "metadata": {},
   "outputs": [
    {
     "data": {
      "text/plain": [
       "['IngestIndexedReferenceTask_config',\n",
       " 'Mosaic_config',\n",
       " 'Mosaic_metadata',\n",
       " 'ampExposureId',\n",
       " 'ampExposureId_bits']"
      ]
     },
     "execution_count": 12,
     "metadata": {},
     "output_type": "execute_result"
    }
   ],
   "source": [
    "drp.datasetTypes[:5]"
   ]
  },
  {
   "cell_type": "code",
   "execution_count": 13,
   "metadata": {},
   "outputs": [
    {
     "data": {
      "text/plain": [
       "['id', 'coord_ra', 'coord_dec', 'parent', 'merge_footprint_i']"
      ]
     },
     "execution_count": 13,
     "metadata": {},
     "output_type": "execute_result"
    }
   ],
   "source": [
    "list(drp.schemas['deepCoadd_meas_schema'].keys())[:5]"
   ]
  },
  {
   "cell_type": "code",
   "execution_count": 14,
   "metadata": {},
   "outputs": [
    {
     "data": {
      "text/plain": [
       "{'description': 'position in ra/dec',\n",
       " 'unit': Unit(\"rad\"),\n",
       " 'dtype': dtype('float64')}"
      ]
     },
     "execution_count": 14,
     "metadata": {},
     "output_type": "execute_result"
    }
   ],
   "source": [
    "drp.schemas['deepCoadd_meas_schema']['coord_ra']"
   ]
  },
  {
   "cell_type": "code",
   "execution_count": 15,
   "metadata": {},
   "outputs": [
    {
     "data": {
      "text/plain": [
       "dict_keys(['deepCoadd_forced_config', 'deep_safeClipAssembleCoadd_config', 'detectCoaddSources_config', 'forcedPhotCcd_config', 'measureCoaddSources_config', 'mergeCoaddDetections_config', 'mergeCoaddMeasurements_config', 'processEimage_config'])"
      ]
     },
     "execution_count": 15,
     "metadata": {},
     "output_type": "execute_result"
    }
   ],
   "source": [
    "drp.configs.keys()"
   ]
  },
  {
   "cell_type": "code",
   "execution_count": 16,
   "metadata": {},
   "outputs": [
    {
     "data": {
      "text/plain": [
       "{'doMeasure': True,\n",
       " 'enforceMinimumRadius': True,\n",
       " 'fixed': False,\n",
       " 'maxSincRadius': 10.0,\n",
       " 'minimumRadius': 0.0,\n",
       " 'nIterForRadius': 1,\n",
       " 'nRadiusForFlux': 2.5,\n",
       " 'nSigmaForRadius': 6.0,\n",
       " 'refRadiusName': 'ext_photometryKron_KronFlux_radius',\n",
       " 'smoothingSigma': -1.0,\n",
       " 'useFootprintRadius': False}"
      ]
     },
     "execution_count": 16,
     "metadata": {},
     "output_type": "execute_result"
    }
   ],
   "source": [
    "drp.configs['processEimage_config']['calibrate']['measurement']['plugins']['values']['ext_photometryKron_KronFlux']"
   ]
  },
  {
   "cell_type": "code",
   "execution_count": 17,
   "metadata": {},
   "outputs": [
    {
     "data": {
      "text/plain": [
       "({'visit': int, 'filter': str, 'raft': str, 'sensor': str},\n",
       " {'filter': str, 'tract': int, 'patch': str})"
      ]
     },
     "execution_count": 17,
     "metadata": {},
     "output_type": "execute_result"
    }
   ],
   "source": [
    "drp.get_catIdKeys(\"forced_src\"), drp.get_catIdKeys(\"deepCoadd_meas\"), "
   ]
  }
 ],
 "metadata": {
  "kernelspec": {
   "display_name": "Python 3",
   "language": "python",
   "name": "python3"
  },
  "language_info": {
   "codemirror_mode": {
    "name": "ipython",
    "version": 3
   },
   "file_extension": ".py",
   "mimetype": "text/x-python",
   "name": "python",
   "nbconvert_exporter": "python",
   "pygments_lexer": "ipython3",
   "version": "3.6.2"
  }
 },
 "nbformat": 4,
 "nbformat_minor": 2
}
