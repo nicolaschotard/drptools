{
 "cells": [
  {
   "cell_type": "markdown",
   "metadata": {},
   "source": [
    "# Get a raw image, display it and overlay the position of the reference sources"
   ]
  },
  {
   "cell_type": "code",
   "execution_count": 1,
   "metadata": {},
   "outputs": [],
   "source": [
    "import lsst.daf.persistence as dafPersist\n",
    "import lsst.afw.display.ds9 as ds9\n",
    "import numpy\n",
    "\n",
    "butler = dafPersist.Butler(\"/sps/lsst/dataproducts/desc/DC2/Run1.2p/w_2018_15/work/0/input\")\n",
    "dataid = {'visit':286254, 'raft':'2,2', 'sensor':'1,1'}\n",
    "\n",
    "raw = butler.get('eimage', dataid)\n",
    "wcsRaw = raw.getWcs()"
   ]
  },
  {
   "cell_type": "code",
   "execution_count": 2,
   "metadata": {},
   "outputs": [
    {
     "name": "stdout",
     "output_type": "stream",
     "text": [
      "ds9 doesn't appear to be running (XPA: \n",
      "  File \"python/lsst/display/ds9/xpa.cc\", line 115, in const char* lsst::display::ds9::{anonymous}::XPASet1(XPA, char*, char*, char*, char*, int)\n",
      "    XPASet returned 0 {0}\n",
      "lsst::pex::exceptions::IoError: 'XPASet returned 0'\n",
      ", (;iconify no; raise)), I'll try to exec it for you\n",
      "waiting for ds9...\r"
     ]
    },
    {
     "ename": "RuntimeError",
     "evalue": "\n  File \"python/lsst/afw/display/simpleFits.cc\", line 441, in void lsst::afw::display::writeBasicFits(int, const ImageT&, const lsst::afw::geom::SkyWcs*, const char*) [with ImageT = lsst::afw::image::Image<float>]\n    Error writing data for row 12 {0}\nlsst::pex::exceptions::RuntimeError: 'Error writing data for row 12'\n",
     "output_type": "error",
     "traceback": [
      "\u001b[0;31m\u001b[0m",
      "\u001b[0;31mRuntimeError\u001b[0mTraceback (most recent call last)",
      "\u001b[0;32m<ipython-input-2-e88892ed0b32>\u001b[0m in \u001b[0;36m<module>\u001b[0;34m()\u001b[0m\n\u001b[1;32m      1\u001b[0m \u001b[0;31m# Display image in ds9 (the display_ds9 stack package should be set up)\u001b[0m\u001b[0;34m\u001b[0m\u001b[0;34m\u001b[0m\u001b[0m\n\u001b[0;32m----> 2\u001b[0;31m \u001b[0mds9\u001b[0m\u001b[0;34m.\u001b[0m\u001b[0mmtv\u001b[0m\u001b[0;34m(\u001b[0m\u001b[0mraw\u001b[0m\u001b[0;34m.\u001b[0m\u001b[0mgetMaskedImage\u001b[0m\u001b[0;34m(\u001b[0m\u001b[0;34m)\u001b[0m\u001b[0;34m.\u001b[0m\u001b[0mgetImage\u001b[0m\u001b[0;34m(\u001b[0m\u001b[0;34m)\u001b[0m\u001b[0;34m,\u001b[0m\u001b[0mframe\u001b[0m\u001b[0;34m=\u001b[0m\u001b[0;36m1\u001b[0m\u001b[0;34m,\u001b[0m\u001b[0mwcs\u001b[0m\u001b[0;34m=\u001b[0m\u001b[0mwcsRaw\u001b[0m\u001b[0;34m)\u001b[0m\u001b[0;34m\u001b[0m\u001b[0m\n\u001b[0m",
      "\u001b[0;32m/sps/lsst/software/lsst_distrib/w_2018_15/stack/miniconda3-4.3.21-10a4fa6/Linux64/afw/15.0-17-g0b88e3da8+6/python/lsst/afw/display/ds9.py\u001b[0m in \u001b[0;36mmtv\u001b[0;34m(data, frame, title, wcs, *args, **kwargs)\u001b[0m\n\u001b[1;32m     98\u001b[0m \u001b[0;34m\u001b[0m\u001b[0m\n\u001b[1;32m     99\u001b[0m \u001b[0;32mdef\u001b[0m \u001b[0mmtv\u001b[0m\u001b[0;34m(\u001b[0m\u001b[0mdata\u001b[0m\u001b[0;34m,\u001b[0m \u001b[0mframe\u001b[0m\u001b[0;34m=\u001b[0m\u001b[0;32mNone\u001b[0m\u001b[0;34m,\u001b[0m \u001b[0mtitle\u001b[0m\u001b[0;34m=\u001b[0m\u001b[0;34m\"\"\u001b[0m\u001b[0;34m,\u001b[0m \u001b[0mwcs\u001b[0m\u001b[0;34m=\u001b[0m\u001b[0;32mNone\u001b[0m\u001b[0;34m,\u001b[0m \u001b[0;34m*\u001b[0m\u001b[0margs\u001b[0m\u001b[0;34m,\u001b[0m \u001b[0;34m**\u001b[0m\u001b[0mkwargs\u001b[0m\u001b[0;34m)\u001b[0m\u001b[0;34m:\u001b[0m\u001b[0;34m\u001b[0m\u001b[0m\n\u001b[0;32m--> 100\u001b[0;31m     \u001b[0;32mreturn\u001b[0m \u001b[0mgetDisplay\u001b[0m\u001b[0;34m(\u001b[0m\u001b[0mframe\u001b[0m\u001b[0;34m,\u001b[0m \u001b[0mcreate\u001b[0m\u001b[0;34m=\u001b[0m\u001b[0;32mTrue\u001b[0m\u001b[0;34m)\u001b[0m\u001b[0;34m.\u001b[0m\u001b[0mmtv\u001b[0m\u001b[0;34m(\u001b[0m\u001b[0mdata\u001b[0m\u001b[0;34m,\u001b[0m \u001b[0mtitle\u001b[0m\u001b[0;34m,\u001b[0m \u001b[0mwcs\u001b[0m\u001b[0;34m,\u001b[0m \u001b[0;34m*\u001b[0m\u001b[0margs\u001b[0m\u001b[0;34m,\u001b[0m \u001b[0;34m**\u001b[0m\u001b[0mkwargs\u001b[0m\u001b[0;34m)\u001b[0m\u001b[0;34m\u001b[0m\u001b[0m\n\u001b[0m\u001b[1;32m    101\u001b[0m \u001b[0;34m\u001b[0m\u001b[0m\n\u001b[1;32m    102\u001b[0m \u001b[0;34m\u001b[0m\u001b[0m\n",
      "\u001b[0;32m/sps/lsst/software/lsst_distrib/w_2018_15/stack/miniconda3-4.3.21-10a4fa6/Linux64/afw/15.0-17-g0b88e3da8+6/python/lsst/afw/display/interface.py\u001b[0m in \u001b[0;36mmtv\u001b[0;34m(self, data, title, wcs)\u001b[0m\n\u001b[1;32m    445\u001b[0m \u001b[0;34m\u001b[0m\u001b[0m\n\u001b[1;32m    446\u001b[0m         \u001b[0;32mif\u001b[0m \u001b[0misinstance\u001b[0m\u001b[0;34m(\u001b[0m\u001b[0mdata\u001b[0m\u001b[0;34m,\u001b[0m \u001b[0mafwImage\u001b[0m\u001b[0;34m.\u001b[0m\u001b[0mImage\u001b[0m\u001b[0;34m)\u001b[0m\u001b[0;34m:\u001b[0m  \u001b[0;31m# it's an Image; display it\u001b[0m\u001b[0;34m\u001b[0m\u001b[0m\n\u001b[0;32m--> 447\u001b[0;31m             \u001b[0mself\u001b[0m\u001b[0;34m.\u001b[0m\u001b[0m_impl\u001b[0m\u001b[0;34m.\u001b[0m\u001b[0m_mtv\u001b[0m\u001b[0;34m(\u001b[0m\u001b[0mdata\u001b[0m\u001b[0;34m,\u001b[0m \u001b[0;32mNone\u001b[0m\u001b[0;34m,\u001b[0m \u001b[0mwcs\u001b[0m\u001b[0;34m,\u001b[0m \u001b[0mtitle\u001b[0m\u001b[0;34m)\u001b[0m\u001b[0;34m\u001b[0m\u001b[0m\n\u001b[0m\u001b[1;32m    448\u001b[0m         \u001b[0;31m# it's a Mask; display it, bitplane by bitplane\u001b[0m\u001b[0;34m\u001b[0m\u001b[0;34m\u001b[0m\u001b[0m\n\u001b[1;32m    449\u001b[0m         \u001b[0;32melif\u001b[0m \u001b[0misinstance\u001b[0m\u001b[0;34m(\u001b[0m\u001b[0mdata\u001b[0m\u001b[0;34m,\u001b[0m \u001b[0mafwImage\u001b[0m\u001b[0;34m.\u001b[0m\u001b[0mMask\u001b[0m\u001b[0;34m)\u001b[0m\u001b[0;34m:\u001b[0m\u001b[0;34m\u001b[0m\u001b[0m\n",
      "\u001b[0;32m/sps/lsst/software/lsst_distrib/w_2018_15/stack/miniconda3-4.3.21-10a4fa6/Linux64/display_ds9/15.0+1/python/lsst/display/ds9/ds9.py\u001b[0m in \u001b[0;36m_mtv\u001b[0;34m(self, image, mask, wcs, title)\u001b[0m\n\u001b[1;32m    313\u001b[0m \u001b[0;34m\u001b[0m\u001b[0m\n\u001b[1;32m    314\u001b[0m         \u001b[0;32mif\u001b[0m \u001b[0mimage\u001b[0m\u001b[0;34m:\u001b[0m\u001b[0;34m\u001b[0m\u001b[0m\n\u001b[0;32m--> 315\u001b[0;31m             \u001b[0m_i_mtv\u001b[0m\u001b[0;34m(\u001b[0m\u001b[0mimage\u001b[0m\u001b[0;34m,\u001b[0m \u001b[0mwcs\u001b[0m\u001b[0;34m,\u001b[0m \u001b[0mtitle\u001b[0m\u001b[0;34m,\u001b[0m \u001b[0;32mFalse\u001b[0m\u001b[0;34m)\u001b[0m\u001b[0;34m\u001b[0m\u001b[0m\n\u001b[0m\u001b[1;32m    316\u001b[0m \u001b[0;34m\u001b[0m\u001b[0m\n\u001b[1;32m    317\u001b[0m         \u001b[0;32mif\u001b[0m \u001b[0mmask\u001b[0m\u001b[0;34m:\u001b[0m\u001b[0;34m\u001b[0m\u001b[0m\n",
      "\u001b[0;32m/sps/lsst/software/lsst_distrib/w_2018_15/stack/miniconda3-4.3.21-10a4fa6/Linux64/display_ds9/15.0+1/python/lsst/display/ds9/ds9.py\u001b[0m in \u001b[0;36m_i_mtv\u001b[0;34m(data, wcs, title, isMask)\u001b[0m\n\u001b[1;32m    490\u001b[0m             \u001b[0;32mpass\u001b[0m\u001b[0;34m\u001b[0m\u001b[0m\n\u001b[1;32m    491\u001b[0m \u001b[0;34m\u001b[0m\u001b[0m\n\u001b[0;32m--> 492\u001b[0;31m         \u001b[0;32mraise\u001b[0m \u001b[0me\u001b[0m\u001b[0;34m\u001b[0m\u001b[0m\n\u001b[0m\u001b[1;32m    493\u001b[0m \u001b[0;34m\u001b[0m\u001b[0m\n\u001b[1;32m    494\u001b[0m     \u001b[0;32mtry\u001b[0m\u001b[0;34m:\u001b[0m\u001b[0;34m\u001b[0m\u001b[0m\n",
      "\u001b[0;32m/sps/lsst/software/lsst_distrib/w_2018_15/stack/miniconda3-4.3.21-10a4fa6/Linux64/display_ds9/15.0+1/python/lsst/display/ds9/ds9.py\u001b[0m in \u001b[0;36m_i_mtv\u001b[0;34m(data, wcs, title, isMask)\u001b[0m\n\u001b[1;32m    483\u001b[0m \u001b[0;34m\u001b[0m\u001b[0m\n\u001b[1;32m    484\u001b[0m     \u001b[0;32mtry\u001b[0m\u001b[0;34m:\u001b[0m\u001b[0;34m\u001b[0m\u001b[0m\n\u001b[0;32m--> 485\u001b[0;31m         \u001b[0mdisplayLib\u001b[0m\u001b[0;34m.\u001b[0m\u001b[0mwriteFitsImage\u001b[0m\u001b[0;34m(\u001b[0m\u001b[0mpfd\u001b[0m\u001b[0;34m.\u001b[0m\u001b[0mfileno\u001b[0m\u001b[0;34m(\u001b[0m\u001b[0;34m)\u001b[0m\u001b[0;34m,\u001b[0m \u001b[0mdata\u001b[0m\u001b[0;34m,\u001b[0m \u001b[0mwcs\u001b[0m\u001b[0;34m,\u001b[0m \u001b[0mtitle\u001b[0m\u001b[0;34m)\u001b[0m\u001b[0;34m\u001b[0m\u001b[0m\n\u001b[0m\u001b[1;32m    486\u001b[0m     \u001b[0;32mexcept\u001b[0m \u001b[0mException\u001b[0m \u001b[0;32mas\u001b[0m \u001b[0me\u001b[0m\u001b[0;34m:\u001b[0m\u001b[0;34m\u001b[0m\u001b[0m\n\u001b[1;32m    487\u001b[0m         \u001b[0;32mtry\u001b[0m\u001b[0;34m:\u001b[0m\u001b[0;34m\u001b[0m\u001b[0m\n",
      "\u001b[0;31mRuntimeError\u001b[0m: \n  File \"python/lsst/afw/display/simpleFits.cc\", line 441, in void lsst::afw::display::writeBasicFits(int, const ImageT&, const lsst::afw::geom::SkyWcs*, const char*) [with ImageT = lsst::afw::image::Image<float>]\n    Error writing data for row 12 {0}\nlsst::pex::exceptions::RuntimeError: 'Error writing data for row 12'\n"
     ]
    }
   ],
   "source": [
    "# Display image in ds9 (the display_ds9 stack package should be set up)\n",
    "ds9.mtv(raw.getMaskedImage().getImage(),frame=1,wcs=wcsRaw)"
   ]
  },
  {
   "cell_type": "markdown",
   "metadata": {},
   "source": [
    "## Create and load a catalog with reference objects "
   ]
  },
  {
   "cell_type": "code",
   "execution_count": 21,
   "metadata": {},
   "outputs": [],
   "source": [
    "import lsst.afw.table as afwTable\n",
    "import lsst.afw.geom as afwGeom\n",
    "import lsst.afw.coord as afwCoord\n",
    "import lsst.afw.image as afwImage\n",
    "from lsst.meas.algorithms import LoadIndexedReferenceObjectsTask\n",
    "\n",
    "# Configure LoadIndexedReferenceObjectsTask\n",
    "refConfig = LoadIndexedReferenceObjectsTask.ConfigClass()\n",
    "refConfig.ref_dataset_name = 'cal_ref_cat'\n",
    "refTask = LoadIndexedReferenceObjectsTask(butler, config=refConfig)\n",
    "\n",
    "#define a reference filter (not critical for what we are doing) \n",
    "filter = 'lsst_z_smeared'\n",
    "\n",
    "# Find the approximate celestial coordinates of the sensor's center \n",
    "centerPixel = afwGeom.Point2D(2000., 2000.)\n",
    "centerCoord = wcsRaw.pixelToSky(centerPixel)\n",
    "\n",
    "# Retrieve reference object within a 0.5 deg radius circle around the sensor's center\n",
    "radius = afwGeom.Angle(0.5, afwGeom.degrees)\n",
    "ref = refTask.loadSkyCircle(centerCoord, radius, filter).refCat.copy(deep=True)"
   ]
  },
  {
   "cell_type": "code",
   "execution_count": 12,
   "metadata": {},
   "outputs": [
    {
     "data": {
      "text/html": [
       "&lt;Table length=313473&gt;\n",
       "<table id=\"table139840365791048\" class=\"table-striped table-bordered table-condensed\">\n",
       "<thead><tr><th>id</th><th>coord_ra</th><th>coord_dec</th><th>parent</th><th>lsst_u_smeared_flux</th><th>lsst_g_smeared_flux</th><th>lsst_r_smeared_flux</th><th>lsst_i_smeared_flux</th><th>lsst_z_smeared_flux</th><th>lsst_y_smeared_flux</th><th>lsst_u_smeared_fluxSigma</th><th>lsst_g_smeared_fluxSigma</th><th>lsst_r_smeared_fluxSigma</th><th>lsst_i_smeared_fluxSigma</th><th>lsst_z_smeared_fluxSigma</th><th>lsst_y_smeared_fluxSigma</th><th>resolved</th><th>variable</th><th>raJ2000</th><th>decJ2000</th><th>sigma_raJ2000</th><th>sigma_decJ2000</th><th>lsst_u</th><th>lsst_g</th><th>lsst_r</th><th>lsst_i</th><th>lsst_z</th><th>lsst_y</th><th>properMotionRa</th><th>properMotionDec</th><th>parallax</th><th>radialVelocity</th><th>centroid_x</th><th>centroid_y</th><th>hasCentroid</th></tr></thead>\n",
       "<thead><tr><th></th><th>rad</th><th>rad</th><th></th><th></th><th></th><th></th><th></th><th></th><th></th><th></th><th></th><th></th><th></th><th></th><th></th><th></th><th></th><th></th><th></th><th></th><th></th><th></th><th></th><th></th><th></th><th></th><th></th><th></th><th></th><th></th><th></th><th></th><th></th><th></th></tr></thead>\n",
       "<thead><tr><th>int64</th><th>float64</th><th>float64</th><th>int64</th><th>float64</th><th>float64</th><th>float64</th><th>float64</th><th>float64</th><th>float64</th><th>float64</th><th>float64</th><th>float64</th><th>float64</th><th>float64</th><th>float64</th><th>bool</th><th>bool</th><th>float64</th><th>float64</th><th>float64</th><th>float64</th><th>float64</th><th>float64</th><th>float64</th><th>float64</th><th>float64</th><th>float64</th><th>float64</th><th>float64</th><th>float64</th><th>float64</th><th>float64</th><th>float64</th><th>bool</th></tr></thead>\n",
       "<tr><td>1606134359044</td><td>0.9761448726930843</td><td>-0.49879445646568804</td><td>-1</td><td>9.7796750549775e-10</td><td>7.8275080136769e-09</td><td>2.7281610293284745e-08</td><td>1.362362751142661e-07</td><td>3.004945563663417e-07</td><td>5.050308790040715e-07</td><td>9.007413598366767e-13</td><td>7.209401307033546e-12</td><td>2.5127291669676152e-11</td><td>1.2547824648125792e-10</td><td>2.76765714405999e-10</td><td>4.6515062939858195e-10</td><td>False</td><td>False</td><td>55.928981400000005</td><td>-28.5788172</td><td>2.777777778e-08</td><td>2.777777778e-08</td><td>31.42463871</td><td>29.16652258</td><td>27.81029679</td><td>26.06240314</td><td>25.20645634</td><td>24.64201952</td><td>0.0</td><td>0.0</td><td>0.0</td><td>0.0</td><td>nan</td><td>nan</td><td>False</td></tr>\n",
       "<tr><td>1606135098372</td><td>0.9760801646406457</td><td>-0.4988508864930971</td><td>-1</td><td>2.380769032672208e-08</td><td>2.0858747212388522e-07</td><td>6.287617889230971e-07</td><td>1.4975035924346757e-06</td><td>2.2165321599365687e-06</td><td>2.6832905979097882e-06</td><td>2.1927693137971524e-11</td><td>1.921161615591077e-10</td><td>5.79111008887437e-10</td><td>1.3792517794580462e-09</td><td>2.041501563844735e-09</td><td>2.4714019723672638e-09</td><td>False</td><td>False</td><td>55.9252739</td><td>-28.582050400000004</td><td>2.777777778e-08</td><td>2.777777778e-08</td><td>27.95726445</td><td>25.60106319</td><td>24.40357973</td><td>23.46202805</td><td>23.03629847</td><td>22.82897694</td><td>0.0</td><td>0.0</td><td>0.0</td><td>0.0</td><td>nan</td><td>nan</td><td>False</td></tr>\n",
       "<tr><td>1606137046020</td><td>0.9764270350326761</td><td>-0.49892901101818415</td><td>-1</td><td>2.743233280359078e-08</td><td>2.509410719890923e-07</td><td>7.51731465262389e-07</td><td>2.023425546923796e-06</td><td>3.14274086653614e-06</td><td>3.859631559693322e-06</td><td>2.5266112231839877e-11</td><td>2.3112526863281187e-10</td><td>6.923702663390994e-10</td><td>1.8636438004520227e-09</td><td>2.8945713081717225e-09</td><td>3.5548520375196807e-09</td><td>False</td><td>False</td><td>55.94514809999999</td><td>-28.586526599999996</td><td>2.777777778e-08</td><td>2.777777778e-08</td><td>27.80466487</td><td>25.4003179</td><td>24.20959971</td><td>23.13412846</td><td>22.65841326</td><td>22.43346687</td><td>0.0</td><td>0.0</td><td>0.0</td><td>0.0</td><td>nan</td><td>nan</td><td>False</td></tr>\n",
       "<tr><td>470358356996</td><td>0.976237227338166</td><td>-0.4985601129385283</td><td>-1</td><td>9.20742446914302e-06</td><td>8.479273601539201e-05</td><td>0.0002693612066694988</td><td>0.0005353405846833931</td><td>0.0007352100531801463</td><td>0.0008628386226957041</td><td>8.480351331006933e-09</td><td>7.80969959772884e-08</td><td>2.4809083964323054e-07</td><td>4.930668999866791e-07</td><td>6.771534834687859e-07</td><td>7.947037401114569e-07</td><td>False</td><td>False</td><td>55.93427290000001</td><td>-28.5653903</td><td>2.777777778e-08</td><td>2.777777778e-08</td><td>21.48760696</td><td>19.07972397</td><td>17.8251242</td><td>17.07749389</td><td>16.73317839</td><td>16.55908591</td><td>0.0</td><td>0.0</td><td>0.0</td><td>0.0</td><td>nan</td><td>nan</td><td>False</td></tr>\n",
       "<tr><td>1606132401156</td><td>0.9762940095107255</td><td>-0.49864995917498595</td><td>-1</td><td>1.1391037587257627e-09</td><td>9.951252565996098e-09</td><td>2.8870134881510275e-08</td><td>5.204015925249689e-08</td><td>6.770655313495656e-08</td><td>7.815296532368903e-08</td><td>1.049153333686171e-12</td><td>9.165442326032545e-12</td><td>2.6590376884357197e-11</td><td>4.793075797273421e-11</td><td>6.236003997862412e-11</td><td>7.198154117104278e-11</td><td>False</td><td>False</td><td>55.9375263</td><td>-28.5705381</td><td>2.777777778e-08</td><td>2.777777778e-08</td><td>31.25900304</td><td>28.90535806</td><td>27.74811621</td><td>27.10910271</td><td>26.82282837</td><td>26.66871621</td><td>0.0</td><td>0.0</td><td>0.0</td><td>0.0</td><td>nan</td><td>nan</td><td>False</td></tr>\n",
       "<tr><td>470358406148</td><td>0.9762403681272493</td><td>-0.4985947951671724</td><td>-1</td><td>2.8583283242324602e-09</td><td>1.0051796714202432e-08</td><td>3.408738807145512e-08</td><td>2.104657507787589e-07</td><td>5.866005703566356e-07</td><td>1.2657035812306833e-06</td><td>2.6326176761041258e-12</td><td>9.258046908771621e-12</td><td>3.139564465297425e-11</td><td>1.9384612013158812e-10</td><td>5.402790915379977e-10</td><td>1.1657560793163801e-09</td><td>False</td><td>False</td><td>55.9344529</td><td>-28.5673775</td><td>2.777777778e-08</td><td>2.777777778e-08</td><td>30.26008143</td><td>28.89472014</td><td>27.56894369</td><td>25.59169889</td><td>24.47974747</td><td>23.64404219</td><td>0.0</td><td>0.0</td><td>0.0</td><td>0.0</td><td>nan</td><td>nan</td><td>False</td></tr>\n",
       "<tr><td>1277256370180</td><td>0.9762286211202325</td><td>-0.49881306915347484</td><td>-1</td><td>2.6129089767307176e-07</td><td>2.6665460301505424e-06</td><td>7.712590993771333e-06</td><td>2.8597836634161998e-05</td><td>4.9446222287062604e-05</td><td>6.355067692621254e-05</td><td>2.4065781036681907e-10</td><td>2.4559796555228367e-09</td><td>7.103558820247202e-09</td><td>2.6339580930280177e-08</td><td>4.554165373722413e-08</td><td>5.853233653599107e-08</td><td>False</td><td>False</td><td>55.933779799999996</td><td>-28.5798836</td><td>2.777777778e-08</td><td>2.777777778e-08</td><td>25.35658114</td><td>22.83670055</td><td>21.68195574</td><td>20.26047944</td><td>19.6647654</td><td>19.39242248</td><td>0.0</td><td>0.0</td><td>0.0</td><td>0.0</td><td>nan</td><td>nan</td><td>False</td></tr>\n",
       "<tr><td>1472574884868</td><td>0.9771142530410759</td><td>-0.4988280069221113</td><td>-1</td><td>7.356538444873721e-08</td><td>7.19070123829227e-07</td><td>2.264028997252334e-06</td><td>5.383244940727582e-06</td><td>7.915905499101974e-06</td><td>9.56658610814111e-06</td><td>6.775622303681533e-11</td><td>6.622880591786244e-10</td><td>2.085247767671793e-09</td><td>4.958151820981979e-09</td><td>7.29081839991272e-09</td><td>8.811151425379859e-09</td><td>False</td><td>False</td><td>55.98452280000001</td><td>-28.580739499999996</td><td>2.777777778e-08</td><td>2.777777778e-08</td><td>26.73344825</td><td>24.2577123</td><td>23.01245707</td><td>22.07504444</td><td>21.65184201</td><td>21.44741862</td><td>0.0</td><td>0.0</td><td>0.0</td><td>0.0</td><td>nan</td><td>nan</td><td>False</td></tr>\n",
       "<tr><td>1606132339716</td><td>0.9769738900824106</td><td>-0.49855732732454205</td><td>-1</td><td>9.22183188909944e-10</td><td>8.55908826266549e-09</td><td>2.6724848068573426e-08</td><td>5.761094630501635e-08</td><td>8.183394444101633e-08</td><td>9.75125534391314e-08</td><td>8.493621055174998e-13</td><td>7.883211617293547e-12</td><td>2.4614494710091154e-11</td><td>5.306164246208442e-11</td><td>7.537184822831487e-11</td><td>8.981238077149169e-11</td><td>False</td><td>False</td><td>55.9764806</td><td>-28.5652307</td><td>2.777777778e-08</td><td>2.777777778e-08</td><td>31.48973057</td><td>29.06798848</td><td>27.83429811</td><td>26.99968481</td><td>26.61894939</td><td>26.42839023</td><td>0.0</td><td>0.0</td><td>0.0</td><td>0.0</td><td>nan</td><td>nan</td><td>False</td></tr>\n",
       "<tr><td>...</td><td>...</td><td>...</td><td>...</td><td>...</td><td>...</td><td>...</td><td>...</td><td>...</td><td>...</td><td>...</td><td>...</td><td>...</td><td>...</td><td>...</td><td>...</td><td>...</td><td>...</td><td>...</td><td>...</td><td>...</td><td>...</td><td>...</td><td>...</td><td>...</td><td>...</td><td>...</td><td>...</td><td>...</td><td>...</td><td>...</td><td>...</td><td>...</td><td>...</td><td>...</td></tr>\n",
       "<tr><td>22123839719</td><td>0.9752597108571777</td><td>-0.504689518558486</td><td>-1</td><td>5.912481092410358e-07</td><td>5.979361859901683e-07</td><td>8.646147196450696e-07</td><td>1.6443825252510886e-06</td><td>1.9219234107796013e-06</td><td>2.137447758513341e-06</td><td>5.445596330397298e-10</td><td>5.507195793690707e-10</td><td>7.963395858551854e-10</td><td>1.5145322759292248e-09</td><td>1.770156878214953e-09</td><td>1.9686621383225424e-09</td><td>True</td><td>False</td><td>55.878265369659815</td><td>-28.916579381716392</td><td>2.777777778e-08</td><td>2.777777778e-08</td><td>24.46920981</td><td>24.45742995</td><td>24.05719014</td><td>23.36050961</td><td>23.18944473</td><td>23.07539738</td><td>0.0</td><td>0.0</td><td>0.0</td><td>0.0</td><td>nan</td><td>nan</td><td>False</td></tr>\n",
       "<tr><td>22123840743</td><td>0.9749801773644201</td><td>-0.504426055052747</td><td>-1</td><td>5.4480962171411415e-08</td><td>5.2235808482900925e-08</td><td>6.266155916186287e-08</td><td>9.991019184948512e-08</td><td>9.735864589482367e-08</td><td>9.688703128899247e-08</td><td>5.017882053914578e-11</td><td>4.8110957573287837e-11</td><td>5.7713428811947973e-11</td><td>9.202068735631987e-11</td><td>8.967062668460277e-11</td><td>8.92362535801927e-11</td><td>True</td><td>True</td><td>55.862249295989685</td><td>-28.901484010030067</td><td>2.777777778e-08</td><td>2.777777778e-08</td><td>27.06156447</td><td>27.10731362</td><td>26.90473612</td><td>26.39942077</td><td>26.43014206</td><td>26.43333024</td><td>0.0</td><td>0.0</td><td>0.0</td><td>0.0</td><td>nan</td><td>nan</td><td>False</td></tr>\n",
       "<tr><td>22123841767</td><td>0.9734710042984199</td><td>-0.504856156055979</td><td>-1</td><td>2.4919687790827823e-07</td><td>2.617344981059939e-07</td><td>3.91309605706394e-07</td><td>7.542817099024553e-07</td><td>8.738219240997095e-07</td><td>9.5975404882922e-07</td><td>2.295188065169035e-10</td><td>2.41066381464456e-10</td><td>3.6040946593796827e-10</td><td>6.947191284557813e-10</td><td>8.048197345453463e-10</td><td>8.839661463099366e-10</td><td>True</td><td>False</td><td>55.775780042116345</td><td>-28.92612702703421</td><td>2.777777778e-08</td><td>2.777777778e-08</td><td>25.40833541</td><td>25.35565381</td><td>24.91851882</td><td>24.20485205</td><td>24.04691861</td><td>23.94437307</td><td>0.0</td><td>0.0</td><td>0.0</td><td>0.0</td><td>nan</td><td>nan</td><td>False</td></tr>\n",
       "<tr><td>22123842791</td><td>0.9748577200320602</td><td>-0.5038985601445282</td><td>-1</td><td>2.449059908602471e-07</td><td>2.495991608465285e-07</td><td>3.586970763896529e-07</td><td>6.74420552920069e-07</td><td>7.865270745804207e-07</td><td>8.722983619066998e-07</td><td>2.2556675349589641e-10</td><td>2.298893227956159e-10</td><td>3.3037221639814447e-10</td><td>6.211642846250212e-10</td><td>7.244182068660372e-10</td><td>8.03416481907797e-10</td><td>True</td><td>False</td><td>55.85523300087707</td><td>-28.87126078806633</td><td>2.777777778e-08</td><td>2.777777778e-08</td><td>25.42805243</td><td>25.40777833</td><td>25.01270147</td><td>24.32775612</td><td>24.16169341</td><td>24.04782056</td><td>0.0</td><td>0.0</td><td>0.0</td><td>0.0</td><td>nan</td><td>nan</td><td>False</td></tr>\n",
       "<tr><td>22123843815</td><td>0.9740701298883601</td><td>-0.504287999326292</td><td>-1</td><td>2.50043354667012e-07</td><td>2.5837103260458865e-07</td><td>3.778171476007172e-07</td><td>7.196527029675502e-07</td><td>8.274082538628289e-07</td><td>9.111251629603403e-07</td><td>2.3029844042339402e-10</td><td>2.379685152547218e-10</td><td>3.4798245277717704e-10</td><td>6.628246343943812e-10</td><td>7.620711644659133e-10</td><td>8.391772872337002e-10</td><td>True</td><td>False</td><td>55.81010740079836</td><td>-28.89357401277425</td><td>2.777777778e-08</td><td>2.777777778e-08</td><td>25.40700471</td><td>25.36953177</td><td>24.95525345</td><td>24.25860289</td><td>24.1047535</td><td>24.00116514</td><td>0.0</td><td>0.0</td><td>0.0</td><td>0.0</td><td>nan</td><td>nan</td><td>False</td></tr>\n",
       "<tr><td>22123846887</td><td>0.9742408835670556</td><td>-0.5029842664532048</td><td>-1</td><td>2.573942121036232e-07</td><td>2.624819144097548e-07</td><td>3.6905838837756216e-07</td><td>6.741770942624243e-07</td><td>7.521786132119088e-07</td><td>8.129578797781509e-07</td><td>2.370688303251002e-10</td><td>2.4175477732017616e-10</td><td>3.399153374090327e-10</td><td>6.2094005091468e-10</td><td>6.927821048202702e-10</td><td>7.487618780836865e-10</td><td>True</td><td>False</td><td>55.81989088188411</td><td>-28.818875634632608</td><td>2.777777778e-08</td><td>2.777777778e-08</td><td>25.37272246</td><td>25.3510688</td><td>24.98301146</td><td>24.32802778</td><td>24.21048017</td><td>24.12434079</td><td>0.0</td><td>0.0</td><td>0.0</td><td>0.0</td><td>nan</td><td>nan</td><td>False</td></tr>\n",
       "<tr><td>22123848935</td><td>0.9738726675488831</td><td>-0.5043620526346007</td><td>-1</td><td>5.487595065579874e-08</td><td>6.027264978551066e-08</td><td>9.417563580262535e-08</td><td>1.8448575118219456e-07</td><td>2.087620615495286e-07</td><td>2.2718750438046924e-07</td><td>5.054261837756761e-11</td><td>5.551316196454705e-11</td><td>8.67389660489446e-11</td><td>1.6991765621677197e-10</td><td>1.9227696436266e-10</td><td>2.092474243603952e-10</td><td>True</td><td>False</td><td>55.79879362220349</td><td>-28.89781696515269</td><td>2.777777778e-08</td><td>2.777777778e-08</td><td>27.05206343</td><td>26.94979855</td><td>26.46540573</td><td>25.73714965</td><td>25.60115577</td><td>25.51156914</td><td>0.0</td><td>0.0</td><td>0.0</td><td>0.0</td><td>nan</td><td>nan</td><td>False</td></tr>\n",
       "<tr><td>22123861223</td><td>0.9741626229167443</td><td>-0.5034950596437514</td><td>-1</td><td>1.0793524680302083e-06</td><td>1.7041981319207594e-06</td><td>4.358642296071274e-06</td><td>1.1248773106202288e-05</td><td>1.596643969160047e-05</td><td>1.9858924692412225e-05</td><td>9.94120361189076e-10</td><td>1.5696244856276165e-09</td><td>4.014457910650823e-09</td><td>1.0360502907525487e-08</td><td>1.470563440882708e-08</td><td>1.8290745583855906e-08</td><td>True</td><td>True</td><td>55.81540685737376</td><td>-28.84814186021384</td><td>2.777777778e-08</td><td>2.777777778e-08</td><td>23.8146335</td><td>23.32083359</td><td>22.30195809</td><td>21.27288965</td><td>20.89180265</td><td>20.65480306</td><td>0.0</td><td>0.0</td><td>0.0</td><td>0.0</td><td>nan</td><td>nan</td><td>False</td></tr>\n",
       "<tr><td>22123863271</td><td>0.9739314006972298</td><td>-0.5034924714008311</td><td>-1</td><td>4.596465036021099e-07</td><td>4.814816198025251e-07</td><td>6.476041108737418e-07</td><td>1.1408934975720653e-06</td><td>1.133728178168354e-06</td><td>1.1534715012778686e-06</td><td>4.23350074896421e-10</td><td>4.434609601231684e-10</td><td>5.964654287438166e-10</td><td>1.0508017440813106e-09</td><td>1.0442022410230998e-09</td><td>1.0623865136143531e-09</td><td>True</td><td>False</td><td>55.80215881167466</td><td>-28.84799363421392</td><td>2.777777778e-08</td><td>2.777777778e-08</td><td>24.74419819</td><td>24.69334921</td><td>24.3696671</td><td>23.75652996</td><td>23.76280393</td><td>23.74521496</td><td>0.0</td><td>0.0</td><td>0.0</td><td>0.0</td><td>nan</td><td>nan</td><td>False</td></tr>\n",
       "<tr><td>22123864295</td><td>0.975131960486591</td><td>-0.5030938081367958</td><td>-1</td><td>1.9298869478035663e-06</td><td>1.8452286493097364e-06</td><td>2.4661632225679957e-06</td><td>4.482383563185408e-06</td><td>5.1080153409370355e-06</td><td>5.632044698554201e-06</td><td>1.7774915668705081e-09</td><td>1.699518392426455e-09</td><td>2.2714202692700898e-09</td><td>4.128427829468903e-09</td><td>4.704655991530607e-09</td><td>5.187304866386819e-09</td><td>True</td><td>False</td><td>55.87094580433617</td><td>-28.825151905396073</td><td>2.777777778e-08</td><td>2.777777778e-08</td><td>23.1865804</td><td>23.23480118</td><td>22.92149938</td><td>22.27006052</td><td>22.13003698</td><td>22.02309559</td><td>0.0</td><td>0.0</td><td>0.0</td><td>0.0</td><td>nan</td><td>nan</td><td>False</td></tr>\n",
       "</table>"
      ],
      "text/plain": [
       "<Table length=313473>\n",
       "      id           coord_ra           coord_dec       ... centroid_y hasCentroid\n",
       "                     rad                 rad          ...                       \n",
       "    int64          float64             float64        ...  float64       bool   \n",
       "------------- ------------------ -------------------- ... ---------- -----------\n",
       "1606134359044 0.9761448726930843 -0.49879445646568804 ...        nan       False\n",
       "1606135098372 0.9760801646406457  -0.4988508864930971 ...        nan       False\n",
       "1606137046020 0.9764270350326761 -0.49892901101818415 ...        nan       False\n",
       " 470358356996  0.976237227338166  -0.4985601129385283 ...        nan       False\n",
       "1606132401156 0.9762940095107255 -0.49864995917498595 ...        nan       False\n",
       " 470358406148 0.9762403681272493  -0.4985947951671724 ...        nan       False\n",
       "1277256370180 0.9762286211202325 -0.49881306915347484 ...        nan       False\n",
       "1472574884868 0.9771142530410759  -0.4988280069221113 ...        nan       False\n",
       "1606132339716 0.9769738900824106 -0.49855732732454205 ...        nan       False\n",
       "          ...                ...                  ... ...        ...         ...\n",
       "  22123839719 0.9752597108571777   -0.504689518558486 ...        nan       False\n",
       "  22123840743 0.9749801773644201   -0.504426055052747 ...        nan       False\n",
       "  22123841767 0.9734710042984199   -0.504856156055979 ...        nan       False\n",
       "  22123842791 0.9748577200320602  -0.5038985601445282 ...        nan       False\n",
       "  22123843815 0.9740701298883601   -0.504287999326292 ...        nan       False\n",
       "  22123846887 0.9742408835670556  -0.5029842664532048 ...        nan       False\n",
       "  22123848935 0.9738726675488831  -0.5043620526346007 ...        nan       False\n",
       "  22123861223 0.9741626229167443  -0.5034950596437514 ...        nan       False\n",
       "  22123863271 0.9739314006972298  -0.5034924714008311 ...        nan       False\n",
       "  22123864295  0.975131960486591  -0.5030938081367958 ...        nan       False"
      ]
     },
     "execution_count": 12,
     "metadata": {},
     "output_type": "execute_result"
    }
   ],
   "source": [
    "# We can now display the reference catalog as an astropy table\n",
    "ref.asAstropy()"
   ]
  },
  {
   "cell_type": "markdown",
   "metadata": {},
   "source": [
    "## Display the bright reference sources as a small circle overlaid on the ds9 image"
   ]
  },
  {
   "cell_type": "code",
   "execution_count": 14,
   "metadata": {},
   "outputs": [],
   "source": [
    "for r in ref:\n",
    "    ra = r.get(\"coord_ra\")\n",
    "    dec = r.get(\"coord_dec\")\n",
    "    mag = r.get(\"lsst_z\")\n",
    "    c = afwCoord.IcrsCoord(ra, dec)\n",
    "    pt = wcsRaw.skyToPixel(c)\n",
    "    # Ignore sources which lye outside the sensor footprint or which are too faint \n",
    "    if (pt.getX() > 4000) or (pt.getX()<0) or (pt.getY()>4000) or (pt.getY()<0) or mag > 21:\n",
    "        continue\n",
    "    with ds9.Buffering():\n",
    "        ds9.dot('o', pt.getX(), pt.getY(), frame=1, size=8)"
   ]
  },
  {
   "cell_type": "markdown",
   "metadata": {},
   "source": [
    "### Note that reference sources does not exactly match the sources in the raw images according to Scott \n",
    "### this is due to the fact that PhoSim  does not include an internal model for the motion of the earth"
   ]
  },
  {
   "cell_type": "markdown",
   "metadata": {},
   "source": [
    "## We can now redo the same thing with the calibrated exposure (calexp)"
   ]
  },
  {
   "cell_type": "code",
   "execution_count": 22,
   "metadata": {},
   "outputs": [],
   "source": [
    "# We need to get a new butler as calexp are in the output directory while eImage(raw) was in the input\n",
    "\n",
    "butler = dafPersist.Butler(\"/sps/lsst/dataproducts/desc/DC2/Run1.2p/w_2018_15/work/0/output\")\n",
    "calexp = butler.get('calexp', dataid)\n",
    "wcs = calexp.getWcs()\n",
    "\n",
    "# display in another frame\n",
    "ds9.mtv(calexp.getMaskedImage().getImage(),frame=2,wcs=wcs)"
   ]
  },
  {
   "cell_type": "code",
   "execution_count": 23,
   "metadata": {},
   "outputs": [],
   "source": [
    "for r in ref:\n",
    "    ra = r.get(\"coord_ra\")\n",
    "    dec = r.get(\"coord_dec\")\n",
    "    mag = r.get(\"lsst_z\")\n",
    "    c = afwCoord.IcrsCoord(ra, dec)\n",
    "    pt = wcs.skyToPixel(c)\n",
    "    # Ignore sources which lye outside the sensor footprint or which are too faint \n",
    "    if (pt.getX() > 4000) or (pt.getX()<0) or (pt.getY()>4000) or (pt.getY()<0) or mag > 21:\n",
    "        continue\n",
    "    with ds9.Buffering():\n",
    "        ds9.dot('o', pt.getX(), pt.getY(), frame=2, size=8)"
   ]
  },
  {
   "cell_type": "code",
   "execution_count": null,
   "metadata": {},
   "outputs": [],
   "source": []
  }
 ],
 "metadata": {
  "kernelspec": {
   "display_name": "Python 3",
   "language": "python",
   "name": "python3"
  },
  "language_info": {
   "codemirror_mode": {
    "name": "ipython",
    "version": 3
   },
   "file_extension": ".py",
   "mimetype": "text/x-python",
   "name": "python",
   "nbconvert_exporter": "python",
   "pygments_lexer": "ipython3",
   "version": "3.6.2"
  }
 },
 "nbformat": 4,
 "nbformat_minor": 2
}
